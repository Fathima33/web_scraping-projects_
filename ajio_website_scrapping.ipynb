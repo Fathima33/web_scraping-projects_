{
 "cells": [
  {
   "cell_type": "markdown",
   "id": "12ce9e4a",
   "metadata": {},
   "source": [
    "#### import the necessary libraries"
   ]
  },
  {
   "cell_type": "code",
   "execution_count": 16,
   "id": "5194c835",
   "metadata": {},
   "outputs": [],
   "source": [
    "from selenium import webdriver\n",
    "from selenium.webdriver.support.ui import WebDriverWait\n",
    "from selenium.webdriver.common.by import By as by\n",
    "\n",
    "from selenium.webdriver.support import expected_conditions as ec\n",
    "import time"
   ]
  },
  {
   "cell_type": "code",
   "execution_count": 47,
   "id": "4c2c14bf",
   "metadata": {},
   "outputs": [
    {
     "name": "stdout",
     "output_type": "stream",
     "text": [
      "390\n",
      "390\n"
     ]
    }
   ],
   "source": [
    "path=\"C:\\\\Users\\\\fathi\\\\OneDrive\\\\Desktop\\\\chromedriver\"\n",
    "obj=webdriver.ChromeOptions()\n",
    "obj.add_argument(path)\n",
    "driver=webdriver.Chrome(options=obj)\n",
    "driver.get('https://www.ajio.com/s/perfumes-5260-44721?query=%3Arelevance%3Agenderfilter%3AWomen&curated=true&curatedid=perfumes-5260-44721&customerType=New&gridColumns=3')\n",
    "time.sleep(5)\n",
    "driver.maximize_window()\n",
    "whole_height=driver.execute_script(\"return document.body.scrollHeight\")\n",
    "while True:\n",
    "    time.sleep(5)\n",
    "    driver.execute_script(\"window.scrollTo(0, document.body.scrollHeight);\")\n",
    "    time.sleep(5)\n",
    "    new_height = driver.execute_script(\"return document.body.scrollHeight\")\n",
    "    if new_height == whole_height: \n",
    "        break\n",
    "    else:\n",
    "        whole_height = new_height\n",
    "product_name = []\n",
    "cost_pro = []\n",
    "\n",
    "time.sleep(4)\n",
    "products = driver.find_elements(by.XPATH, '//div[@class=\"nameCls\"]')\n",
    "cost_elements = driver.find_elements(by.XPATH, '//strong/div/span')\n",
    "for i in range(min(len(products), len(cost_elements))):\n",
    "    product_name.append(products[i].text)\n",
    "    cost_pro.append(cost_elements[i].text)\n",
    "\n",
    "print(len(product_name))  \n",
    "print(len(cost_pro)) "
   ]
  },
  {
   "cell_type": "code",
   "execution_count": 48,
   "id": "f5c7351b",
   "metadata": {},
   "outputs": [],
   "source": [
    "import pandas as pd\n",
    "df_ajio=pd.DataFrame({'product name':product_name,'cost':cost_pro})"
   ]
  },
  {
   "cell_type": "code",
   "execution_count": 50,
   "id": "9b109476",
   "metadata": {},
   "outputs": [
    {
     "data": {
      "text/html": [
       "<div>\n",
       "<style scoped>\n",
       "    .dataframe tbody tr th:only-of-type {\n",
       "        vertical-align: middle;\n",
       "    }\n",
       "\n",
       "    .dataframe tbody tr th {\n",
       "        vertical-align: top;\n",
       "    }\n",
       "\n",
       "    .dataframe thead th {\n",
       "        text-align: right;\n",
       "    }\n",
       "</style>\n",
       "<table border=\"1\" class=\"dataframe\">\n",
       "  <thead>\n",
       "    <tr style=\"text-align: right;\">\n",
       "      <th></th>\n",
       "      <th>product name</th>\n",
       "      <th>cost</th>\n",
       "    </tr>\n",
       "  </thead>\n",
       "  <tbody>\n",
       "    <tr>\n",
       "      <th>0</th>\n",
       "      <td>Dream Eau De Parfum</td>\n",
       "      <td>₹223</td>\n",
       "    </tr>\n",
       "    <tr>\n",
       "      <th>1</th>\n",
       "      <td>Raghba Wood Intense Long Lasting Imported Eau ...</td>\n",
       "      <td>₹1040</td>\n",
       "    </tr>\n",
       "    <tr>\n",
       "      <th>2</th>\n",
       "      <td>All Eau De Toilette</td>\n",
       "      <td>₹3995</td>\n",
       "    </tr>\n",
       "    <tr>\n",
       "      <th>3</th>\n",
       "      <td>Good Girl Blush Eau De Parfum</td>\n",
       "      <td>₹4896</td>\n",
       "    </tr>\n",
       "    <tr>\n",
       "      <th>4</th>\n",
       "      <td>Neea Eau De Parfum- 100 ml</td>\n",
       "      <td>₹435</td>\n",
       "    </tr>\n",
       "    <tr>\n",
       "      <th>5</th>\n",
       "      <td>Raghba Wood Intense Eau De Perfume</td>\n",
       "      <td>₹1040</td>\n",
       "    </tr>\n",
       "    <tr>\n",
       "      <th>6</th>\n",
       "      <td>Sheikh Al Shuyukh Luxe Edition Long Lasting Im...</td>\n",
       "      <td>₹1040</td>\n",
       "    </tr>\n",
       "    <tr>\n",
       "      <th>7</th>\n",
       "      <td>Dylan Purple Eau De Parfum</td>\n",
       "      <td>₹7740</td>\n",
       "    </tr>\n",
       "    <tr>\n",
       "      <th>8</th>\n",
       "      <td>Bodylovin Everythin Eau De Parfum</td>\n",
       "      <td>₹158</td>\n",
       "    </tr>\n",
       "    <tr>\n",
       "      <th>9</th>\n",
       "      <td>Opulence Oud Eau De Parfum</td>\n",
       "      <td>₹1791</td>\n",
       "    </tr>\n",
       "  </tbody>\n",
       "</table>\n",
       "</div>"
      ],
      "text/plain": [
       "                                        product name   cost\n",
       "0                                Dream Eau De Parfum   ₹223\n",
       "1  Raghba Wood Intense Long Lasting Imported Eau ...  ₹1040\n",
       "2                                All Eau De Toilette  ₹3995\n",
       "3                      Good Girl Blush Eau De Parfum  ₹4896\n",
       "4                         Neea Eau De Parfum- 100 ml   ₹435\n",
       "5                 Raghba Wood Intense Eau De Perfume  ₹1040\n",
       "6  Sheikh Al Shuyukh Luxe Edition Long Lasting Im...  ₹1040\n",
       "7                         Dylan Purple Eau De Parfum  ₹7740\n",
       "8                  Bodylovin Everythin Eau De Parfum   ₹158\n",
       "9                         Opulence Oud Eau De Parfum  ₹1791"
      ]
     },
     "execution_count": 50,
     "metadata": {},
     "output_type": "execute_result"
    }
   ],
   "source": [
    "df_ajio.head(10)"
   ]
  },
  {
   "cell_type": "code",
   "execution_count": null,
   "id": "a768554f",
   "metadata": {},
   "outputs": [],
   "source": []
  }
 ],
 "metadata": {
  "kernelspec": {
   "display_name": "Python 3 (ipykernel)",
   "language": "python",
   "name": "python3"
  },
  "language_info": {
   "codemirror_mode": {
    "name": "ipython",
    "version": 3
   },
   "file_extension": ".py",
   "mimetype": "text/x-python",
   "name": "python",
   "nbconvert_exporter": "python",
   "pygments_lexer": "ipython3",
   "version": "3.9.13"
  }
 },
 "nbformat": 4,
 "nbformat_minor": 5
}
